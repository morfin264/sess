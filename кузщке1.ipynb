{
 "cells": [
  {
   "cell_type": "markdown",
   "metadata": {},
   "source": [
    "# Установка библиотек"
   ]
  },
  {
   "cell_type": "code",
   "execution_count": 9,
   "metadata": {},
   "outputs": [
    {
     "name": "stdout",
     "output_type": "stream",
     "text": [
      "Requirement already satisfied: pandas in c:\\users\\kikot\\onedrive\\рабочий стол\\vsc\\.venv\\lib\\site-packages (2.1.3)\n",
      "Requirement already satisfied: numpy<2,>=1.26.0 in c:\\users\\kikot\\onedrive\\рабочий стол\\vsc\\.venv\\lib\\site-packages (from pandas) (1.26.2)\n",
      "Requirement already satisfied: python-dateutil>=2.8.2 in c:\\users\\kikot\\onedrive\\рабочий стол\\vsc\\.venv\\lib\\site-packages (from pandas) (2.8.2)\n",
      "Requirement already satisfied: pytz>=2020.1 in c:\\users\\kikot\\onedrive\\рабочий стол\\vsc\\.venv\\lib\\site-packages (from pandas) (2023.3.post1)\n",
      "Requirement already satisfied: tzdata>=2022.1 in c:\\users\\kikot\\onedrive\\рабочий стол\\vsc\\.venv\\lib\\site-packages (from pandas) (2023.3)\n",
      "Requirement already satisfied: six>=1.5 in c:\\users\\kikot\\onedrive\\рабочий стол\\vsc\\.venv\\lib\\site-packages (from python-dateutil>=2.8.2->pandas) (1.16.0)\n"
     ]
    },
    {
     "name": "stderr",
     "output_type": "stream",
     "text": [
      "\n",
      "[notice] A new release of pip is available: 23.3.1 -> 24.0\n",
      "[notice] To update, run: python.exe -m pip install --upgrade pip\n"
     ]
    },
    {
     "name": "stdout",
     "output_type": "stream",
     "text": [
      "Requirement already satisfied: phik in c:\\users\\kikot\\onedrive\\рабочий стол\\vsc\\.venv\\lib\\site-packages (0.12.4)\n",
      "Requirement already satisfied: numpy>=1.18.0 in c:\\users\\kikot\\onedrive\\рабочий стол\\vsc\\.venv\\lib\\site-packages (from phik) (1.26.2)\n",
      "Requirement already satisfied: scipy>=1.5.2 in c:\\users\\kikot\\onedrive\\рабочий стол\\vsc\\.venv\\lib\\site-packages (from phik) (1.11.4)\n",
      "Requirement already satisfied: pandas>=0.25.1 in c:\\users\\kikot\\onedrive\\рабочий стол\\vsc\\.venv\\lib\\site-packages (from phik) (2.1.3)\n",
      "Requirement already satisfied: matplotlib>=2.2.3 in c:\\users\\kikot\\onedrive\\рабочий стол\\vsc\\.venv\\lib\\site-packages (from phik) (3.8.2)\n",
      "Requirement already satisfied: joblib>=0.14.1 in c:\\users\\kikot\\onedrive\\рабочий стол\\vsc\\.venv\\lib\\site-packages (from phik) (1.3.2)\n",
      "Requirement already satisfied: contourpy>=1.0.1 in c:\\users\\kikot\\onedrive\\рабочий стол\\vsc\\.venv\\lib\\site-packages (from matplotlib>=2.2.3->phik) (1.2.0)\n",
      "Requirement already satisfied: cycler>=0.10 in c:\\users\\kikot\\onedrive\\рабочий стол\\vsc\\.venv\\lib\\site-packages (from matplotlib>=2.2.3->phik) (0.12.1)\n",
      "Requirement already satisfied: fonttools>=4.22.0 in c:\\users\\kikot\\onedrive\\рабочий стол\\vsc\\.venv\\lib\\site-packages (from matplotlib>=2.2.3->phik) (4.45.1)\n",
      "Requirement already satisfied: kiwisolver>=1.3.1 in c:\\users\\kikot\\onedrive\\рабочий стол\\vsc\\.venv\\lib\\site-packages (from matplotlib>=2.2.3->phik) (1.4.5)\n",
      "Requirement already satisfied: packaging>=20.0 in c:\\users\\kikot\\onedrive\\рабочий стол\\vsc\\.venv\\lib\\site-packages (from matplotlib>=2.2.3->phik) (23.2)\n",
      "Requirement already satisfied: pillow>=8 in c:\\users\\kikot\\onedrive\\рабочий стол\\vsc\\.venv\\lib\\site-packages (from matplotlib>=2.2.3->phik) (10.1.0)\n",
      "Requirement already satisfied: pyparsing>=2.3.1 in c:\\users\\kikot\\onedrive\\рабочий стол\\vsc\\.venv\\lib\\site-packages (from matplotlib>=2.2.3->phik) (3.1.1)\n",
      "Requirement already satisfied: python-dateutil>=2.7 in c:\\users\\kikot\\onedrive\\рабочий стол\\vsc\\.venv\\lib\\site-packages (from matplotlib>=2.2.3->phik) (2.8.2)\n",
      "Requirement already satisfied: pytz>=2020.1 in c:\\users\\kikot\\onedrive\\рабочий стол\\vsc\\.venv\\lib\\site-packages (from pandas>=0.25.1->phik) (2023.3.post1)\n",
      "Requirement already satisfied: tzdata>=2022.1 in c:\\users\\kikot\\onedrive\\рабочий стол\\vsc\\.venv\\lib\\site-packages (from pandas>=0.25.1->phik) (2023.3)\n",
      "Requirement already satisfied: six>=1.5 in c:\\users\\kikot\\onedrive\\рабочий стол\\vsc\\.venv\\lib\\site-packages (from python-dateutil>=2.7->matplotlib>=2.2.3->phik) (1.16.0)\n"
     ]
    },
    {
     "name": "stderr",
     "output_type": "stream",
     "text": [
      "\n",
      "[notice] A new release of pip is available: 23.3.1 -> 24.0\n",
      "[notice] To update, run: python.exe -m pip install --upgrade pip\n"
     ]
    }
   ],
   "source": [
    "!pip install pandas\n",
    "!pip install phik"
   ]
  },
  {
   "cell_type": "code",
   "execution_count": 10,
   "metadata": {},
   "outputs": [],
   "source": [
    "import pandas as pd\n",
    "from sklearn.model_selection import train_test_split\n",
    "from sklearn.ensemble import RandomForestClassifier\n",
    "import numpy as np\n",
    "import matplotlib.pyplot as plt\n",
    "from sklearn.metrics import r2_score\n",
    "from sklearn.metrics import accuracy_score\n",
    "from sklearn.pipeline import make_pipeline\n",
    "\n",
    "from sklearn.preprocessing import StandardScaler\n",
    "from sklearn.svm import SVC\n",
    "\n",
    "import seaborn as sns\n"
   ]
  },
  {
   "cell_type": "markdown",
   "metadata": {},
   "source": [
    "Загружаем предыдущую сессию в формате csv"
   ]
  },
  {
   "cell_type": "code",
   "execution_count": 11,
   "metadata": {},
   "outputs": [
    {
     "data": {
      "text/html": [
       "<div>\n",
       "<style scoped>\n",
       "    .dataframe tbody tr th:only-of-type {\n",
       "        vertical-align: middle;\n",
       "    }\n",
       "\n",
       "    .dataframe tbody tr th {\n",
       "        vertical-align: top;\n",
       "    }\n",
       "\n",
       "    .dataframe thead th {\n",
       "        text-align: right;\n",
       "    }\n",
       "</style>\n",
       "<table border=\"1\" class=\"dataframe\">\n",
       "  <thead>\n",
       "    <tr style=\"text-align: right;\">\n",
       "      <th></th>\n",
       "      <th>№ п/п</th>\n",
       "      <th>№документа</th>\n",
       "      <th>Датарегистрации</th>\n",
       "      <th>Исх. №Дата</th>\n",
       "      <th>Адресат</th>\n",
       "      <th>Автор</th>\n",
       "      <th>Краткоесодержание</th>\n",
       "      <th>Примечание</th>\n",
       "    </tr>\n",
       "  </thead>\n",
       "  <tbody>\n",
       "    <tr>\n",
       "      <th>0</th>\n",
       "      <td>1</td>\n",
       "      <td>WSR/1-838/2019</td>\n",
       "      <td>09.04.2019</td>\n",
       "      <td>208-40908.04.2019</td>\n",
       "      <td>Уразов Р.Н.</td>\n",
       "      <td>Антонова С.В. (АО «Интерфакс»)</td>\n",
       "      <td>Вх - О возможности использования сетевого изда...</td>\n",
       "      <td>NaN</td>\n",
       "    </tr>\n",
       "    <tr>\n",
       "      <th>1</th>\n",
       "      <td>2</td>\n",
       "      <td>WSR/1-837/2019</td>\n",
       "      <td>09.04.2019</td>\n",
       "      <td>05-33809.04.2019</td>\n",
       "      <td>Уразов Р.Н.</td>\n",
       "      <td>Картошкин С.А. (Министерство просвещения Росси...</td>\n",
       "      <td>Вх - Об участии в совещании по вопросу доработ...</td>\n",
       "      <td>NaN</td>\n",
       "    </tr>\n",
       "    <tr>\n",
       "      <th>2</th>\n",
       "      <td>3</td>\n",
       "      <td>WSR/1-835/2019</td>\n",
       "      <td>09.04.2019</td>\n",
       "      <td>И10-14/313709.04.2019</td>\n",
       "      <td>Уразов Р.Н.</td>\n",
       "      <td>Цивилев С.Е. (Администрация Кемеровской области)</td>\n",
       "      <td>Вх - О командировании Саликовой К. и Глушко Д....</td>\n",
       "      <td>NaN</td>\n",
       "    </tr>\n",
       "    <tr>\n",
       "      <th>3</th>\n",
       "      <td>4</td>\n",
       "      <td>WSR/1-834/2019</td>\n",
       "      <td>09.04.2019</td>\n",
       "      <td>Д2/7121-ИС03.04.2019</td>\n",
       "      <td>Иванюк Л.А.</td>\n",
       "      <td>Волков Г.А. (Министерство транспорта Российско...</td>\n",
       "      <td>Вх - Об участии в Чемпионате мира по профессио...</td>\n",
       "      <td>NaN</td>\n",
       "    </tr>\n",
       "    <tr>\n",
       "      <th>4</th>\n",
       "      <td>5</td>\n",
       "      <td>WSR/1-833/2019</td>\n",
       "      <td>09.04.2019</td>\n",
       "      <td>15-20/06-91108.04.2019</td>\n",
       "      <td>Уразов Р.Н.</td>\n",
       "      <td>Атанов И.В. (Ставропольский государственный аг...</td>\n",
       "      <td>Вх - Об участии в церемонии открытия Вузовског...</td>\n",
       "      <td>NaN</td>\n",
       "    </tr>\n",
       "    <tr>\n",
       "      <th>5</th>\n",
       "      <td>6</td>\n",
       "      <td>WSR/1-831/2019</td>\n",
       "      <td>09.04.2019</td>\n",
       "      <td>Исх01/040302.04.2019</td>\n",
       "      <td>Миронова С.В.</td>\n",
       "      <td>Островский А.В. (Губернатор Смоленской области)</td>\n",
       "      <td>Вх - Об участии в Чемпионате мира по профессио...</td>\n",
       "      <td>NaN</td>\n",
       "    </tr>\n",
       "  </tbody>\n",
       "</table>\n",
       "</div>"
      ],
      "text/plain": [
       "   № п/п      №документа Датарегистрации              Исх. №Дата  \\\n",
       "0      1  WSR/1-838/2019      09.04.2019       208-40908.04.2019   \n",
       "1      2  WSR/1-837/2019      09.04.2019        05-33809.04.2019   \n",
       "2      3  WSR/1-835/2019      09.04.2019   И10-14/313709.04.2019   \n",
       "3      4  WSR/1-834/2019      09.04.2019    Д2/7121-ИС03.04.2019   \n",
       "4      5  WSR/1-833/2019      09.04.2019  15-20/06-91108.04.2019   \n",
       "5      6  WSR/1-831/2019      09.04.2019    Исх01/040302.04.2019   \n",
       "\n",
       "         Адресат                                              Автор  \\\n",
       "0    Уразов Р.Н.                     Антонова С.В. (АО «Интерфакс»)   \n",
       "1    Уразов Р.Н.  Картошкин С.А. (Министерство просвещения Росси...   \n",
       "2    Уразов Р.Н.   Цивилев С.Е. (Администрация Кемеровской области)   \n",
       "3    Иванюк Л.А.  Волков Г.А. (Министерство транспорта Российско...   \n",
       "4    Уразов Р.Н.  Атанов И.В. (Ставропольский государственный аг...   \n",
       "5  Миронова С.В.    Островский А.В. (Губернатор Смоленской области)   \n",
       "\n",
       "                                   Краткоесодержание Примечание  \n",
       "0  Вх - О возможности использования сетевого изда...        NaN  \n",
       "1  Вх - Об участии в совещании по вопросу доработ...        NaN  \n",
       "2  Вх - О командировании Саликовой К. и Глушко Д....        NaN  \n",
       "3  Вх - Об участии в Чемпионате мира по профессио...        NaN  \n",
       "4  Вх - Об участии в церемонии открытия Вузовског...        NaN  \n",
       "5  Вх - Об участии в Чемпионате мира по профессио...        NaN  "
      ]
     },
     "execution_count": 11,
     "metadata": {},
     "output_type": "execute_result"
    }
   ],
   "source": [
    "data=pd.read_csv('/Users/kikot/OneDrive/Рабочий стол/123.csv')\n",
    "data.head(6)"
   ]
  },
  {
   "cell_type": "markdown",
   "metadata": {},
   "source": [
    "проверяем наличие пустых значений"
   ]
  },
  {
   "cell_type": "code",
   "execution_count": 12,
   "metadata": {},
   "outputs": [
    {
     "name": "stdout",
     "output_type": "stream",
     "text": [
      "<class 'pandas.core.frame.DataFrame'>\n",
      "RangeIndex: 4967 entries, 0 to 4966\n",
      "Data columns (total 8 columns):\n",
      " #   Column             Non-Null Count  Dtype \n",
      "---  ------             --------------  ----- \n",
      " 0   № п/п              4967 non-null   int64 \n",
      " 1   №документа         4965 non-null   object\n",
      " 2   Датарегистрации    4965 non-null   object\n",
      " 3   Исх. №Дата         4967 non-null   object\n",
      " 4   Адресат            4967 non-null   object\n",
      " 5   Автор              4967 non-null   object\n",
      " 6   Краткоесодержание  4967 non-null   object\n",
      " 7   Примечание         308 non-null    object\n",
      "dtypes: int64(1), object(7)\n",
      "memory usage: 310.6+ KB\n"
     ]
    }
   ],
   "source": [
    "data.info()"
   ]
  },
  {
   "cell_type": "markdown",
   "metadata": {},
   "source": [
    "заполняем пустые значения , значением \"пусто\""
   ]
  },
  {
   "cell_type": "code",
   "execution_count": 13,
   "metadata": {},
   "outputs": [
    {
     "data": {
      "text/html": [
       "<div>\n",
       "<style scoped>\n",
       "    .dataframe tbody tr th:only-of-type {\n",
       "        vertical-align: middle;\n",
       "    }\n",
       "\n",
       "    .dataframe tbody tr th {\n",
       "        vertical-align: top;\n",
       "    }\n",
       "\n",
       "    .dataframe thead th {\n",
       "        text-align: right;\n",
       "    }\n",
       "</style>\n",
       "<table border=\"1\" class=\"dataframe\">\n",
       "  <thead>\n",
       "    <tr style=\"text-align: right;\">\n",
       "      <th></th>\n",
       "      <th>№ п/п</th>\n",
       "      <th>№документа</th>\n",
       "      <th>Датарегистрации</th>\n",
       "      <th>Исх. №Дата</th>\n",
       "      <th>Адресат</th>\n",
       "      <th>Автор</th>\n",
       "      <th>Краткоесодержание</th>\n",
       "      <th>Примечание</th>\n",
       "    </tr>\n",
       "  </thead>\n",
       "  <tbody>\n",
       "    <tr>\n",
       "      <th>0</th>\n",
       "      <td>1</td>\n",
       "      <td>WSR/1-838/2019</td>\n",
       "      <td>09.04.2019</td>\n",
       "      <td>208-40908.04.2019</td>\n",
       "      <td>Уразов Р.Н.</td>\n",
       "      <td>Антонова С.В. (АО «Интерфакс»)</td>\n",
       "      <td>Вх - О возможности использования сетевого изда...</td>\n",
       "      <td>пусто</td>\n",
       "    </tr>\n",
       "    <tr>\n",
       "      <th>1</th>\n",
       "      <td>2</td>\n",
       "      <td>WSR/1-837/2019</td>\n",
       "      <td>09.04.2019</td>\n",
       "      <td>05-33809.04.2019</td>\n",
       "      <td>Уразов Р.Н.</td>\n",
       "      <td>Картошкин С.А. (Министерство просвещения Росси...</td>\n",
       "      <td>Вх - Об участии в совещании по вопросу доработ...</td>\n",
       "      <td>пусто</td>\n",
       "    </tr>\n",
       "    <tr>\n",
       "      <th>2</th>\n",
       "      <td>3</td>\n",
       "      <td>WSR/1-835/2019</td>\n",
       "      <td>09.04.2019</td>\n",
       "      <td>И10-14/313709.04.2019</td>\n",
       "      <td>Уразов Р.Н.</td>\n",
       "      <td>Цивилев С.Е. (Администрация Кемеровской области)</td>\n",
       "      <td>Вх - О командировании Саликовой К. и Глушко Д....</td>\n",
       "      <td>пусто</td>\n",
       "    </tr>\n",
       "    <tr>\n",
       "      <th>3</th>\n",
       "      <td>4</td>\n",
       "      <td>WSR/1-834/2019</td>\n",
       "      <td>09.04.2019</td>\n",
       "      <td>Д2/7121-ИС03.04.2019</td>\n",
       "      <td>Иванюк Л.А.</td>\n",
       "      <td>Волков Г.А. (Министерство транспорта Российско...</td>\n",
       "      <td>Вх - Об участии в Чемпионате мира по профессио...</td>\n",
       "      <td>пусто</td>\n",
       "    </tr>\n",
       "    <tr>\n",
       "      <th>4</th>\n",
       "      <td>5</td>\n",
       "      <td>WSR/1-833/2019</td>\n",
       "      <td>09.04.2019</td>\n",
       "      <td>15-20/06-91108.04.2019</td>\n",
       "      <td>Уразов Р.Н.</td>\n",
       "      <td>Атанов И.В. (Ставропольский государственный аг...</td>\n",
       "      <td>Вх - Об участии в церемонии открытия Вузовског...</td>\n",
       "      <td>пусто</td>\n",
       "    </tr>\n",
       "  </tbody>\n",
       "</table>\n",
       "</div>"
      ],
      "text/plain": [
       "   № п/п      №документа Датарегистрации              Исх. №Дата      Адресат  \\\n",
       "0      1  WSR/1-838/2019      09.04.2019       208-40908.04.2019  Уразов Р.Н.   \n",
       "1      2  WSR/1-837/2019      09.04.2019        05-33809.04.2019  Уразов Р.Н.   \n",
       "2      3  WSR/1-835/2019      09.04.2019   И10-14/313709.04.2019  Уразов Р.Н.   \n",
       "3      4  WSR/1-834/2019      09.04.2019    Д2/7121-ИС03.04.2019  Иванюк Л.А.   \n",
       "4      5  WSR/1-833/2019      09.04.2019  15-20/06-91108.04.2019  Уразов Р.Н.   \n",
       "\n",
       "                                               Автор  \\\n",
       "0                     Антонова С.В. (АО «Интерфакс»)   \n",
       "1  Картошкин С.А. (Министерство просвещения Росси...   \n",
       "2   Цивилев С.Е. (Администрация Кемеровской области)   \n",
       "3  Волков Г.А. (Министерство транспорта Российско...   \n",
       "4  Атанов И.В. (Ставропольский государственный аг...   \n",
       "\n",
       "                                   Краткоесодержание Примечание  \n",
       "0  Вх - О возможности использования сетевого изда...      пусто  \n",
       "1  Вх - Об участии в совещании по вопросу доработ...      пусто  \n",
       "2  Вх - О командировании Саликовой К. и Глушко Д....      пусто  \n",
       "3  Вх - Об участии в Чемпионате мира по профессио...      пусто  \n",
       "4  Вх - Об участии в церемонии открытия Вузовског...      пусто  "
      ]
     },
     "execution_count": 13,
     "metadata": {},
     "output_type": "execute_result"
    }
   ],
   "source": [
    "data1=data.fillna('пусто')\n",
    "data1.head()"
   ]
  },
  {
   "cell_type": "markdown",
   "metadata": {},
   "source": [
    "Удаляем коллону Примечание , т.к. она бесполезна и почти пустая"
   ]
  },
  {
   "cell_type": "code",
   "execution_count": 14,
   "metadata": {},
   "outputs": [
    {
     "data": {
      "text/html": [
       "<div>\n",
       "<style scoped>\n",
       "    .dataframe tbody tr th:only-of-type {\n",
       "        vertical-align: middle;\n",
       "    }\n",
       "\n",
       "    .dataframe tbody tr th {\n",
       "        vertical-align: top;\n",
       "    }\n",
       "\n",
       "    .dataframe thead th {\n",
       "        text-align: right;\n",
       "    }\n",
       "</style>\n",
       "<table border=\"1\" class=\"dataframe\">\n",
       "  <thead>\n",
       "    <tr style=\"text-align: right;\">\n",
       "      <th></th>\n",
       "      <th>№ п/п</th>\n",
       "      <th>№документа</th>\n",
       "      <th>Датарегистрации</th>\n",
       "      <th>Исх. №Дата</th>\n",
       "      <th>Адресат</th>\n",
       "      <th>Автор</th>\n",
       "      <th>Краткоесодержание</th>\n",
       "    </tr>\n",
       "  </thead>\n",
       "  <tbody>\n",
       "    <tr>\n",
       "      <th>0</th>\n",
       "      <td>1</td>\n",
       "      <td>WSR/1-838/2019</td>\n",
       "      <td>09.04.2019</td>\n",
       "      <td>208-40908.04.2019</td>\n",
       "      <td>Уразов Р.Н.</td>\n",
       "      <td>Антонова С.В. (АО «Интерфакс»)</td>\n",
       "      <td>Вх - О возможности использования сетевого изда...</td>\n",
       "    </tr>\n",
       "    <tr>\n",
       "      <th>1</th>\n",
       "      <td>2</td>\n",
       "      <td>WSR/1-837/2019</td>\n",
       "      <td>09.04.2019</td>\n",
       "      <td>05-33809.04.2019</td>\n",
       "      <td>Уразов Р.Н.</td>\n",
       "      <td>Картошкин С.А. (Министерство просвещения Росси...</td>\n",
       "      <td>Вх - Об участии в совещании по вопросу доработ...</td>\n",
       "    </tr>\n",
       "    <tr>\n",
       "      <th>2</th>\n",
       "      <td>3</td>\n",
       "      <td>WSR/1-835/2019</td>\n",
       "      <td>09.04.2019</td>\n",
       "      <td>И10-14/313709.04.2019</td>\n",
       "      <td>Уразов Р.Н.</td>\n",
       "      <td>Цивилев С.Е. (Администрация Кемеровской области)</td>\n",
       "      <td>Вх - О командировании Саликовой К. и Глушко Д....</td>\n",
       "    </tr>\n",
       "    <tr>\n",
       "      <th>3</th>\n",
       "      <td>4</td>\n",
       "      <td>WSR/1-834/2019</td>\n",
       "      <td>09.04.2019</td>\n",
       "      <td>Д2/7121-ИС03.04.2019</td>\n",
       "      <td>Иванюк Л.А.</td>\n",
       "      <td>Волков Г.А. (Министерство транспорта Российско...</td>\n",
       "      <td>Вх - Об участии в Чемпионате мира по профессио...</td>\n",
       "    </tr>\n",
       "    <tr>\n",
       "      <th>4</th>\n",
       "      <td>5</td>\n",
       "      <td>WSR/1-833/2019</td>\n",
       "      <td>09.04.2019</td>\n",
       "      <td>15-20/06-91108.04.2019</td>\n",
       "      <td>Уразов Р.Н.</td>\n",
       "      <td>Атанов И.В. (Ставропольский государственный аг...</td>\n",
       "      <td>Вх - Об участии в церемонии открытия Вузовског...</td>\n",
       "    </tr>\n",
       "    <tr>\n",
       "      <th>...</th>\n",
       "      <td>...</td>\n",
       "      <td>...</td>\n",
       "      <td>...</td>\n",
       "      <td>...</td>\n",
       "      <td>...</td>\n",
       "      <td>...</td>\n",
       "      <td>...</td>\n",
       "    </tr>\n",
       "    <tr>\n",
       "      <th>4962</th>\n",
       "      <td>4963</td>\n",
       "      <td>WSR/1.-1749/2017</td>\n",
       "      <td>01.11.2017</td>\n",
       "      <td>1120.10.2017</td>\n",
       "      <td>Уразов Р.Н.</td>\n",
       "      <td>Медведев Д.А. (Аппарат Правительства Российско...</td>\n",
       "      <td>Протокол заседания Президиума Совета при Прези...</td>\n",
       "    </tr>\n",
       "    <tr>\n",
       "      <th>4963</th>\n",
       "      <td>4964</td>\n",
       "      <td>WSR/1.-1751/2017</td>\n",
       "      <td>01.11.2017</td>\n",
       "      <td>ТС-1164/0631.10.2017</td>\n",
       "      <td>Уразов Р.Н.</td>\n",
       "      <td>Синюгина Т.Ю. (Министерство образования и наук...</td>\n",
       "      <td>О проведении 21.11.2017 заседания организацион...</td>\n",
       "    </tr>\n",
       "    <tr>\n",
       "      <th>4964</th>\n",
       "      <td>4965</td>\n",
       "      <td>WSR/1.-1748/2017</td>\n",
       "      <td>01.11.2017</td>\n",
       "      <td>ЛО-95/06пр</td>\n",
       "      <td>Уразов Р.Н.</td>\n",
       "      <td>Огородова Л.М. (Министерство образования и нау...</td>\n",
       "      <td>Протокол заседания рабочей группы приоритетног...</td>\n",
       "    </tr>\n",
       "    <tr>\n",
       "      <th>4965</th>\n",
       "      <td>4966</td>\n",
       "      <td>WSR/1.-1747/2017</td>\n",
       "      <td>01.11.2017</td>\n",
       "      <td>ЛО-93/06пр24.10.2017</td>\n",
       "      <td>Уразов Р.Н.</td>\n",
       "      <td>Огородова Л.М. (Министерство образования и нау...</td>\n",
       "      <td>Протокол заседания рабочей группы приоритетног...</td>\n",
       "    </tr>\n",
       "    <tr>\n",
       "      <th>4966</th>\n",
       "      <td>4967</td>\n",
       "      <td>пусто</td>\n",
       "      <td>пусто</td>\n",
       "      <td>НА-29/1507718.10.2017</td>\n",
       "      <td>Уразов Р.Н.</td>\n",
       "      <td>Асаул Н.А. (Министерство транспорта Российской...</td>\n",
       "      <td>Участие в Чемпионате WorldSkills Hi-Tech Екате...</td>\n",
       "    </tr>\n",
       "  </tbody>\n",
       "</table>\n",
       "<p>4967 rows × 7 columns</p>\n",
       "</div>"
      ],
      "text/plain": [
       "      № п/п        №документа Датарегистрации              Исх. №Дата  \\\n",
       "0         1    WSR/1-838/2019      09.04.2019       208-40908.04.2019   \n",
       "1         2    WSR/1-837/2019      09.04.2019        05-33809.04.2019   \n",
       "2         3    WSR/1-835/2019      09.04.2019   И10-14/313709.04.2019   \n",
       "3         4    WSR/1-834/2019      09.04.2019    Д2/7121-ИС03.04.2019   \n",
       "4         5    WSR/1-833/2019      09.04.2019  15-20/06-91108.04.2019   \n",
       "...     ...               ...             ...                     ...   \n",
       "4962   4963  WSR/1.-1749/2017      01.11.2017            1120.10.2017   \n",
       "4963   4964  WSR/1.-1751/2017      01.11.2017    ТС-1164/0631.10.2017   \n",
       "4964   4965  WSR/1.-1748/2017      01.11.2017              ЛО-95/06пр   \n",
       "4965   4966  WSR/1.-1747/2017      01.11.2017    ЛО-93/06пр24.10.2017   \n",
       "4966   4967             пусто           пусто   НА-29/1507718.10.2017   \n",
       "\n",
       "          Адресат                                              Автор  \\\n",
       "0     Уразов Р.Н.                     Антонова С.В. (АО «Интерфакс»)   \n",
       "1     Уразов Р.Н.  Картошкин С.А. (Министерство просвещения Росси...   \n",
       "2     Уразов Р.Н.   Цивилев С.Е. (Администрация Кемеровской области)   \n",
       "3     Иванюк Л.А.  Волков Г.А. (Министерство транспорта Российско...   \n",
       "4     Уразов Р.Н.  Атанов И.В. (Ставропольский государственный аг...   \n",
       "...           ...                                                ...   \n",
       "4962  Уразов Р.Н.  Медведев Д.А. (Аппарат Правительства Российско...   \n",
       "4963  Уразов Р.Н.  Синюгина Т.Ю. (Министерство образования и наук...   \n",
       "4964  Уразов Р.Н.  Огородова Л.М. (Министерство образования и нау...   \n",
       "4965  Уразов Р.Н.  Огородова Л.М. (Министерство образования и нау...   \n",
       "4966  Уразов Р.Н.  Асаул Н.А. (Министерство транспорта Российской...   \n",
       "\n",
       "                                      Краткоесодержание  \n",
       "0     Вх - О возможности использования сетевого изда...  \n",
       "1     Вх - Об участии в совещании по вопросу доработ...  \n",
       "2     Вх - О командировании Саликовой К. и Глушко Д....  \n",
       "3     Вх - Об участии в Чемпионате мира по профессио...  \n",
       "4     Вх - Об участии в церемонии открытия Вузовског...  \n",
       "...                                                 ...  \n",
       "4962  Протокол заседания Президиума Совета при Прези...  \n",
       "4963  О проведении 21.11.2017 заседания организацион...  \n",
       "4964  Протокол заседания рабочей группы приоритетног...  \n",
       "4965  Протокол заседания рабочей группы приоритетног...  \n",
       "4966  Участие в Чемпионате WorldSkills Hi-Tech Екате...  \n",
       "\n",
       "[4967 rows x 7 columns]"
      ]
     },
     "execution_count": 14,
     "metadata": {},
     "output_type": "execute_result"
    }
   ],
   "source": [
    "data2=data1.drop(columns=['Примечание'])\n",
    "data2"
   ]
  },
  {
   "cell_type": "markdown",
   "metadata": {},
   "source": [
    "## 2.1 Классификация документов"
   ]
  },
  {
   "cell_type": "markdown",
   "metadata": {},
   "source": [
    "Для классификации я буду использовать две модели random forest и SVM"
   ]
  },
  {
   "cell_type": "code",
   "execution_count": 15,
   "metadata": {},
   "outputs": [
    {
     "data": {
      "text/html": [
       "<div>\n",
       "<style scoped>\n",
       "    .dataframe tbody tr th:only-of-type {\n",
       "        vertical-align: middle;\n",
       "    }\n",
       "\n",
       "    .dataframe tbody tr th {\n",
       "        vertical-align: top;\n",
       "    }\n",
       "\n",
       "    .dataframe thead th {\n",
       "        text-align: right;\n",
       "    }\n",
       "</style>\n",
       "<table border=\"1\" class=\"dataframe\">\n",
       "  <thead>\n",
       "    <tr style=\"text-align: right;\">\n",
       "      <th></th>\n",
       "      <th>№ п/п</th>\n",
       "      <th>№документа</th>\n",
       "      <th>Датарегистрации</th>\n",
       "      <th>Исх. №Дата</th>\n",
       "      <th>Адресат</th>\n",
       "      <th>Автор</th>\n",
       "      <th>Краткоесодержание</th>\n",
       "    </tr>\n",
       "  </thead>\n",
       "  <tbody>\n",
       "    <tr>\n",
       "      <th>0</th>\n",
       "      <td>1</td>\n",
       "      <td>3435</td>\n",
       "      <td>96</td>\n",
       "      <td>2113</td>\n",
       "      <td>143</td>\n",
       "      <td>85</td>\n",
       "      <td>262</td>\n",
       "    </tr>\n",
       "    <tr>\n",
       "      <th>1</th>\n",
       "      <td>2</td>\n",
       "      <td>3434</td>\n",
       "      <td>96</td>\n",
       "      <td>848</td>\n",
       "      <td>143</td>\n",
       "      <td>724</td>\n",
       "      <td>2864</td>\n",
       "    </tr>\n",
       "    <tr>\n",
       "      <th>2</th>\n",
       "      <td>3</td>\n",
       "      <td>3430</td>\n",
       "      <td>96</td>\n",
       "      <td>4057</td>\n",
       "      <td>143</td>\n",
       "      <td>1827</td>\n",
       "      <td>544</td>\n",
       "    </tr>\n",
       "    <tr>\n",
       "      <th>3</th>\n",
       "      <td>4</td>\n",
       "      <td>3428</td>\n",
       "      <td>96</td>\n",
       "      <td>3981</td>\n",
       "      <td>48</td>\n",
       "      <td>313</td>\n",
       "      <td>2609</td>\n",
       "    </tr>\n",
       "    <tr>\n",
       "      <th>4</th>\n",
       "      <td>5</td>\n",
       "      <td>3426</td>\n",
       "      <td>96</td>\n",
       "      <td>1723</td>\n",
       "      <td>143</td>\n",
       "      <td>113</td>\n",
       "      <td>2971</td>\n",
       "    </tr>\n",
       "  </tbody>\n",
       "</table>\n",
       "</div>"
      ],
      "text/plain": [
       "   № п/п  №документа  Датарегистрации  Исх. №Дата  Адресат  Автор  \\\n",
       "0      1        3435               96        2113      143     85   \n",
       "1      2        3434               96         848      143    724   \n",
       "2      3        3430               96        4057      143   1827   \n",
       "3      4        3428               96        3981       48    313   \n",
       "4      5        3426               96        1723      143    113   \n",
       "\n",
       "   Краткоесодержание  \n",
       "0                262  \n",
       "1               2864  \n",
       "2                544  \n",
       "3               2609  \n",
       "4               2971  "
      ]
     },
     "execution_count": 15,
     "metadata": {},
     "output_type": "execute_result"
    }
   ],
   "source": [
    "# Подключаем класс для предобработки данных\n",
    "from sklearn import preprocessing\n",
    "\n",
    "# Напишем функцию, которая принимает на вход DataFrame, кодирует числовыми значениями категориальные признаки\n",
    "# и возвращает обновленный DataFrame и сами кодировщики.\n",
    "def number_encode_features(init_df):\n",
    "    result = init_df.copy() # копируем нашу исходную таблицу\n",
    "    encoders = {}\n",
    "    for column in result.columns:\n",
    "        if result.dtypes[column] == object: # np.object -- строковый тип / если тип столбца - строка, то нужно его закодировать\n",
    "            encoders[column] = preprocessing.LabelEncoder() # для колонки column создаем кодировщик\n",
    "            result[column] = encoders[column].fit_transform(result[column]) # применяем кодировщик к столбцу и перезаписываем столбец\n",
    "    return result, encoders\n",
    "\n",
    "data1, encoders = number_encode_features(data2) # Теперь encoded data содержит закодированные кат. признаки\n",
    "data1.head()"
   ]
  },
  {
   "cell_type": "markdown",
   "metadata": {},
   "source": [
    "### Random forest\n"
   ]
  },
  {
   "cell_type": "code",
   "execution_count": 16,
   "metadata": {},
   "outputs": [],
   "source": [
    "X=data1"
   ]
  },
  {
   "cell_type": "code",
   "execution_count": 17,
   "metadata": {},
   "outputs": [
    {
     "data": {
      "text/html": [
       "<div>\n",
       "<style scoped>\n",
       "    .dataframe tbody tr th:only-of-type {\n",
       "        vertical-align: middle;\n",
       "    }\n",
       "\n",
       "    .dataframe tbody tr th {\n",
       "        vertical-align: top;\n",
       "    }\n",
       "\n",
       "    .dataframe thead th {\n",
       "        text-align: right;\n",
       "    }\n",
       "</style>\n",
       "<table border=\"1\" class=\"dataframe\">\n",
       "  <thead>\n",
       "    <tr style=\"text-align: right;\">\n",
       "      <th></th>\n",
       "      <th>№ п/п</th>\n",
       "      <th>№документа</th>\n",
       "      <th>Датарегистрации</th>\n",
       "      <th>Исх. №Дата</th>\n",
       "      <th>Адресат</th>\n",
       "      <th>Автор</th>\n",
       "      <th>Краткоесодержание</th>\n",
       "    </tr>\n",
       "  </thead>\n",
       "  <tbody>\n",
       "    <tr>\n",
       "      <th>0</th>\n",
       "      <td>1</td>\n",
       "      <td>3435</td>\n",
       "      <td>96</td>\n",
       "      <td>2113</td>\n",
       "      <td>143</td>\n",
       "      <td>85</td>\n",
       "      <td>262</td>\n",
       "    </tr>\n",
       "    <tr>\n",
       "      <th>1</th>\n",
       "      <td>2</td>\n",
       "      <td>3434</td>\n",
       "      <td>96</td>\n",
       "      <td>848</td>\n",
       "      <td>143</td>\n",
       "      <td>724</td>\n",
       "      <td>2864</td>\n",
       "    </tr>\n",
       "    <tr>\n",
       "      <th>2</th>\n",
       "      <td>3</td>\n",
       "      <td>3430</td>\n",
       "      <td>96</td>\n",
       "      <td>4057</td>\n",
       "      <td>143</td>\n",
       "      <td>1827</td>\n",
       "      <td>544</td>\n",
       "    </tr>\n",
       "    <tr>\n",
       "      <th>3</th>\n",
       "      <td>4</td>\n",
       "      <td>3428</td>\n",
       "      <td>96</td>\n",
       "      <td>3981</td>\n",
       "      <td>48</td>\n",
       "      <td>313</td>\n",
       "      <td>2609</td>\n",
       "    </tr>\n",
       "    <tr>\n",
       "      <th>4</th>\n",
       "      <td>5</td>\n",
       "      <td>3426</td>\n",
       "      <td>96</td>\n",
       "      <td>1723</td>\n",
       "      <td>143</td>\n",
       "      <td>113</td>\n",
       "      <td>2971</td>\n",
       "    </tr>\n",
       "    <tr>\n",
       "      <th>...</th>\n",
       "      <td>...</td>\n",
       "      <td>...</td>\n",
       "      <td>...</td>\n",
       "      <td>...</td>\n",
       "      <td>...</td>\n",
       "      <td>...</td>\n",
       "      <td>...</td>\n",
       "    </tr>\n",
       "    <tr>\n",
       "      <th>4962</th>\n",
       "      <td>4963</td>\n",
       "      <td>3563</td>\n",
       "      <td>8</td>\n",
       "      <td>1413</td>\n",
       "      <td>143</td>\n",
       "      <td>1069</td>\n",
       "      <td>3841</td>\n",
       "    </tr>\n",
       "    <tr>\n",
       "      <th>4963</th>\n",
       "      <td>4964</td>\n",
       "      <td>3565</td>\n",
       "      <td>8</td>\n",
       "      <td>4522</td>\n",
       "      <td>143</td>\n",
       "      <td>1541</td>\n",
       "      <td>3551</td>\n",
       "    </tr>\n",
       "    <tr>\n",
       "      <th>4964</th>\n",
       "      <td>4965</td>\n",
       "      <td>3562</td>\n",
       "      <td>8</td>\n",
       "      <td>4237</td>\n",
       "      <td>143</td>\n",
       "      <td>1232</td>\n",
       "      <td>3846</td>\n",
       "    </tr>\n",
       "    <tr>\n",
       "      <th>4965</th>\n",
       "      <td>4966</td>\n",
       "      <td>3561</td>\n",
       "      <td>8</td>\n",
       "      <td>4236</td>\n",
       "      <td>143</td>\n",
       "      <td>1232</td>\n",
       "      <td>3846</td>\n",
       "    </tr>\n",
       "    <tr>\n",
       "      <th>4966</th>\n",
       "      <td>4967</td>\n",
       "      <td>4953</td>\n",
       "      <td>372</td>\n",
       "      <td>4272</td>\n",
       "      <td>143</td>\n",
       "      <td>110</td>\n",
       "      <td>3858</td>\n",
       "    </tr>\n",
       "  </tbody>\n",
       "</table>\n",
       "<p>4967 rows × 7 columns</p>\n",
       "</div>"
      ],
      "text/plain": [
       "      № п/п  №документа  Датарегистрации  Исх. №Дата  Адресат  Автор  \\\n",
       "0         1        3435               96        2113      143     85   \n",
       "1         2        3434               96         848      143    724   \n",
       "2         3        3430               96        4057      143   1827   \n",
       "3         4        3428               96        3981       48    313   \n",
       "4         5        3426               96        1723      143    113   \n",
       "...     ...         ...              ...         ...      ...    ...   \n",
       "4962   4963        3563                8        1413      143   1069   \n",
       "4963   4964        3565                8        4522      143   1541   \n",
       "4964   4965        3562                8        4237      143   1232   \n",
       "4965   4966        3561                8        4236      143   1232   \n",
       "4966   4967        4953              372        4272      143    110   \n",
       "\n",
       "      Краткоесодержание  \n",
       "0                   262  \n",
       "1                  2864  \n",
       "2                   544  \n",
       "3                  2609  \n",
       "4                  2971  \n",
       "...                 ...  \n",
       "4962               3841  \n",
       "4963               3551  \n",
       "4964               3846  \n",
       "4965               3846  \n",
       "4966               3858  \n",
       "\n",
       "[4967 rows x 7 columns]"
      ]
     },
     "execution_count": 17,
     "metadata": {},
     "output_type": "execute_result"
    }
   ],
   "source": [
    "X"
   ]
  },
  {
   "cell_type": "code",
   "execution_count": 18,
   "metadata": {},
   "outputs": [],
   "source": [
    "Y=data1['Адресат']"
   ]
  },
  {
   "cell_type": "code",
   "execution_count": 19,
   "metadata": {},
   "outputs": [],
   "source": [
    "X_train, X_test, y_train, y_test = train_test_split(X, Y, test_size=0.2, random_state=42)"
   ]
  },
  {
   "cell_type": "code",
   "execution_count": 20,
   "metadata": {},
   "outputs": [
    {
     "data": {
      "text/html": [
       "<style>#sk-container-id-1 {color: black;}#sk-container-id-1 pre{padding: 0;}#sk-container-id-1 div.sk-toggleable {background-color: white;}#sk-container-id-1 label.sk-toggleable__label {cursor: pointer;display: block;width: 100%;margin-bottom: 0;padding: 0.3em;box-sizing: border-box;text-align: center;}#sk-container-id-1 label.sk-toggleable__label-arrow:before {content: \"▸\";float: left;margin-right: 0.25em;color: #696969;}#sk-container-id-1 label.sk-toggleable__label-arrow:hover:before {color: black;}#sk-container-id-1 div.sk-estimator:hover label.sk-toggleable__label-arrow:before {color: black;}#sk-container-id-1 div.sk-toggleable__content {max-height: 0;max-width: 0;overflow: hidden;text-align: left;background-color: #f0f8ff;}#sk-container-id-1 div.sk-toggleable__content pre {margin: 0.2em;color: black;border-radius: 0.25em;background-color: #f0f8ff;}#sk-container-id-1 input.sk-toggleable__control:checked~div.sk-toggleable__content {max-height: 200px;max-width: 100%;overflow: auto;}#sk-container-id-1 input.sk-toggleable__control:checked~label.sk-toggleable__label-arrow:before {content: \"▾\";}#sk-container-id-1 div.sk-estimator input.sk-toggleable__control:checked~label.sk-toggleable__label {background-color: #d4ebff;}#sk-container-id-1 div.sk-label input.sk-toggleable__control:checked~label.sk-toggleable__label {background-color: #d4ebff;}#sk-container-id-1 input.sk-hidden--visually {border: 0;clip: rect(1px 1px 1px 1px);clip: rect(1px, 1px, 1px, 1px);height: 1px;margin: -1px;overflow: hidden;padding: 0;position: absolute;width: 1px;}#sk-container-id-1 div.sk-estimator {font-family: monospace;background-color: #f0f8ff;border: 1px dotted black;border-radius: 0.25em;box-sizing: border-box;margin-bottom: 0.5em;}#sk-container-id-1 div.sk-estimator:hover {background-color: #d4ebff;}#sk-container-id-1 div.sk-parallel-item::after {content: \"\";width: 100%;border-bottom: 1px solid gray;flex-grow: 1;}#sk-container-id-1 div.sk-label:hover label.sk-toggleable__label {background-color: #d4ebff;}#sk-container-id-1 div.sk-serial::before {content: \"\";position: absolute;border-left: 1px solid gray;box-sizing: border-box;top: 0;bottom: 0;left: 50%;z-index: 0;}#sk-container-id-1 div.sk-serial {display: flex;flex-direction: column;align-items: center;background-color: white;padding-right: 0.2em;padding-left: 0.2em;position: relative;}#sk-container-id-1 div.sk-item {position: relative;z-index: 1;}#sk-container-id-1 div.sk-parallel {display: flex;align-items: stretch;justify-content: center;background-color: white;position: relative;}#sk-container-id-1 div.sk-item::before, #sk-container-id-1 div.sk-parallel-item::before {content: \"\";position: absolute;border-left: 1px solid gray;box-sizing: border-box;top: 0;bottom: 0;left: 50%;z-index: -1;}#sk-container-id-1 div.sk-parallel-item {display: flex;flex-direction: column;z-index: 1;position: relative;background-color: white;}#sk-container-id-1 div.sk-parallel-item:first-child::after {align-self: flex-end;width: 50%;}#sk-container-id-1 div.sk-parallel-item:last-child::after {align-self: flex-start;width: 50%;}#sk-container-id-1 div.sk-parallel-item:only-child::after {width: 0;}#sk-container-id-1 div.sk-dashed-wrapped {border: 1px dashed gray;margin: 0 0.4em 0.5em 0.4em;box-sizing: border-box;padding-bottom: 0.4em;background-color: white;}#sk-container-id-1 div.sk-label label {font-family: monospace;font-weight: bold;display: inline-block;line-height: 1.2em;}#sk-container-id-1 div.sk-label-container {text-align: center;}#sk-container-id-1 div.sk-container {/* jupyter's `normalize.less` sets `[hidden] { display: none; }` but bootstrap.min.css set `[hidden] { display: none !important; }` so we also need the `!important` here to be able to override the default hidden behavior on the sphinx rendered scikit-learn.org. See: https://github.com/scikit-learn/scikit-learn/issues/21755 */display: inline-block !important;position: relative;}#sk-container-id-1 div.sk-text-repr-fallback {display: none;}</style><div id=\"sk-container-id-1\" class=\"sk-top-container\"><div class=\"sk-text-repr-fallback\"><pre>RandomForestClassifier()</pre><b>In a Jupyter environment, please rerun this cell to show the HTML representation or trust the notebook. <br />On GitHub, the HTML representation is unable to render, please try loading this page with nbviewer.org.</b></div><div class=\"sk-container\" hidden><div class=\"sk-item\"><div class=\"sk-estimator sk-toggleable\"><input class=\"sk-toggleable__control sk-hidden--visually\" id=\"sk-estimator-id-1\" type=\"checkbox\" checked><label for=\"sk-estimator-id-1\" class=\"sk-toggleable__label sk-toggleable__label-arrow\">RandomForestClassifier</label><div class=\"sk-toggleable__content\"><pre>RandomForestClassifier()</pre></div></div></div></div></div>"
      ],
      "text/plain": [
       "RandomForestClassifier()"
      ]
     },
     "execution_count": 20,
     "metadata": {},
     "output_type": "execute_result"
    }
   ],
   "source": [
    "model = RandomForestClassifier(n_estimators=100)\n",
    "model.fit(X_train, y_train)"
   ]
  },
  {
   "cell_type": "code",
   "execution_count": 21,
   "metadata": {},
   "outputs": [],
   "source": [
    "col=['№п/п', '№документа', 'дата регистрации', 'исходный номер и дата',\n",
    "       'Адресат', 'Автор', 'Краткое содежание']"
   ]
  },
  {
   "cell_type": "markdown",
   "metadata": {},
   "source": [
    "Выводим значимость признаков и вывродим график"
   ]
  },
  {
   "cell_type": "code",
   "execution_count": 22,
   "metadata": {},
   "outputs": [
    {
     "name": "stdout",
     "output_type": "stream",
     "text": [
      "Значимость признака:\n"
     ]
    },
    {
     "data": {
      "text/plain": [
       "[[0.6285, 'Адресат'],\n",
       " [0.1379, '№документа'],\n",
       " [0.0628, 'Краткое содежание'],\n",
       " [0.0624, '№п/п'],\n",
       " [0.0426, 'исходный номер и дата'],\n",
       " [0.0343, 'Автор'],\n",
       " [0.0315, 'дата регистрации']]"
      ]
     },
     "execution_count": 22,
     "metadata": {},
     "output_type": "execute_result"
    }
   ],
   "source": [
    "\n",
    "importances = model.feature_importances_\n",
    "indices = np.argsort(importances)[::-1]\n",
    "\n",
    "ar_f=[]\n",
    "for f, idx in enumerate(indices):\n",
    "    ar_f.append([round(importances[idx],4), col[idx]])\n",
    "print(\"Значимость признака:\")\n",
    "ar_f.sort(reverse=True)\n",
    "ar_f"
   ]
  },
  {
   "cell_type": "code",
   "execution_count": 23,
   "metadata": {},
   "outputs": [
    {
     "data": {
      "image/png": "[encoded data removed]",
      "text/plain": [
       "<Figure size 800x800 with 1 Axes>"
      ]
     },
     "metadata": {},
     "output_type": "display_data"
    }
   ],
   "source": [
    "#удобнее отобразить на столбчатой диаграмме\n",
    "d_first = len(col)\n",
    "plt.figure(figsize=(8, 8))\n",
    "plt.title(\"Значимость признака\")\n",
    "plt.bar(range(d_first), importances[indices[:d_first]], align='center')\n",
    "plt.xticks(range(d_first), np.array(col)[indices[:d_first]], rotation=90)\n",
    "plt.xlim([-1, d_first]);"
   ]
  },
  {
   "cell_type": "markdown",
   "metadata": {},
   "source": [
    "Самый значимый признак это Адресат и №документа"
   ]
  },
  {
   "cell_type": "markdown",
   "metadata": {},
   "source": [
    "обучение модели Random Forest"
   ]
  },
  {
   "cell_type": "code",
   "execution_count": 24,
   "metadata": {},
   "outputs": [
    {
     "data": {
      "text/html": [
       "<style>#sk-container-id-2 {color: black;}#sk-container-id-2 pre{padding: 0;}#sk-container-id-2 div.sk-toggleable {background-color: white;}#sk-container-id-2 label.sk-toggleable__label {cursor: pointer;display: block;width: 100%;margin-bottom: 0;padding: 0.3em;box-sizing: border-box;text-align: center;}#sk-container-id-2 label.sk-toggleable__label-arrow:before {content: \"▸\";float: left;margin-right: 0.25em;color: #696969;}#sk-container-id-2 label.sk-toggleable__label-arrow:hover:before {color: black;}#sk-container-id-2 div.sk-estimator:hover label.sk-toggleable__label-arrow:before {color: black;}#sk-container-id-2 div.sk-toggleable__content {max-height: 0;max-width: 0;overflow: hidden;text-align: left;background-color: #f0f8ff;}#sk-container-id-2 div.sk-toggleable__content pre {margin: 0.2em;color: black;border-radius: 0.25em;background-color: #f0f8ff;}#sk-container-id-2 input.sk-toggleable__control:checked~div.sk-toggleable__content {max-height: 200px;max-width: 100%;overflow: auto;}#sk-container-id-2 input.sk-toggleable__control:checked~label.sk-toggleable__label-arrow:before {content: \"▾\";}#sk-container-id-2 div.sk-estimator input.sk-toggleable__control:checked~label.sk-toggleable__label {background-color: #d4ebff;}#sk-container-id-2 div.sk-label input.sk-toggleable__control:checked~label.sk-toggleable__label {background-color: #d4ebff;}#sk-container-id-2 input.sk-hidden--visually {border: 0;clip: rect(1px 1px 1px 1px);clip: rect(1px, 1px, 1px, 1px);height: 1px;margin: -1px;overflow: hidden;padding: 0;position: absolute;width: 1px;}#sk-container-id-2 div.sk-estimator {font-family: monospace;background-color: #f0f8ff;border: 1px dotted black;border-radius: 0.25em;box-sizing: border-box;margin-bottom: 0.5em;}#sk-container-id-2 div.sk-estimator:hover {background-color: #d4ebff;}#sk-container-id-2 div.sk-parallel-item::after {content: \"\";width: 100%;border-bottom: 1px solid gray;flex-grow: 1;}#sk-container-id-2 div.sk-label:hover label.sk-toggleable__label {background-color: #d4ebff;}#sk-container-id-2 div.sk-serial::before {content: \"\";position: absolute;border-left: 1px solid gray;box-sizing: border-box;top: 0;bottom: 0;left: 50%;z-index: 0;}#sk-container-id-2 div.sk-serial {display: flex;flex-direction: column;align-items: center;background-color: white;padding-right: 0.2em;padding-left: 0.2em;position: relative;}#sk-container-id-2 div.sk-item {position: relative;z-index: 1;}#sk-container-id-2 div.sk-parallel {display: flex;align-items: stretch;justify-content: center;background-color: white;position: relative;}#sk-container-id-2 div.sk-item::before, #sk-container-id-2 div.sk-parallel-item::before {content: \"\";position: absolute;border-left: 1px solid gray;box-sizing: border-box;top: 0;bottom: 0;left: 50%;z-index: -1;}#sk-container-id-2 div.sk-parallel-item {display: flex;flex-direction: column;z-index: 1;position: relative;background-color: white;}#sk-container-id-2 div.sk-parallel-item:first-child::after {align-self: flex-end;width: 50%;}#sk-container-id-2 div.sk-parallel-item:last-child::after {align-self: flex-start;width: 50%;}#sk-container-id-2 div.sk-parallel-item:only-child::after {width: 0;}#sk-container-id-2 div.sk-dashed-wrapped {border: 1px dashed gray;margin: 0 0.4em 0.5em 0.4em;box-sizing: border-box;padding-bottom: 0.4em;background-color: white;}#sk-container-id-2 div.sk-label label {font-family: monospace;font-weight: bold;display: inline-block;line-height: 1.2em;}#sk-container-id-2 div.sk-label-container {text-align: center;}#sk-container-id-2 div.sk-container {/* jupyter's `normalize.less` sets `[hidden] { display: none; }` but bootstrap.min.css set `[hidden] { display: none !important; }` so we also need the `!important` here to be able to override the default hidden behavior on the sphinx rendered scikit-learn.org. See: https://github.com/scikit-learn/scikit-learn/issues/21755 */display: inline-block !important;position: relative;}#sk-container-id-2 div.sk-text-repr-fallback {display: none;}</style><div id=\"sk-container-id-2\" class=\"sk-top-container\"><div class=\"sk-text-repr-fallback\"><pre>RandomForestClassifier(random_state=42)</pre><b>In a Jupyter environment, please rerun this cell to show the HTML representation or trust the notebook. <br />On GitHub, the HTML representation is unable to render, please try loading this page with nbviewer.org.</b></div><div class=\"sk-container\" hidden><div class=\"sk-item\"><div class=\"sk-estimator sk-toggleable\"><input class=\"sk-toggleable__control sk-hidden--visually\" id=\"sk-estimator-id-2\" type=\"checkbox\" checked><label for=\"sk-estimator-id-2\" class=\"sk-toggleable__label sk-toggleable__label-arrow\">RandomForestClassifier</label><div class=\"sk-toggleable__content\"><pre>RandomForestClassifier(random_state=42)</pre></div></div></div></div></div>"
      ],
      "text/plain": [
       "RandomForestClassifier(random_state=42)"
      ]
     },
     "execution_count": 24,
     "metadata": {},
     "output_type": "execute_result"
    }
   ],
   "source": [
    "model = RandomForestClassifier(n_estimators=100, random_state=42)\n",
    "model.fit(X_train, y_train)"
   ]
  },
  {
   "cell_type": "markdown",
   "metadata": {},
   "source": [
    "присваиваем переменным x и y значение"
   ]
  },
  {
   "cell_type": "code",
   "execution_count": 25,
   "metadata": {},
   "outputs": [],
   "source": [
    "X = data1.drop('Адресат', axis=1)\n",
    "y = data1['Адресат']"
   ]
  },
  {
   "cell_type": "code",
   "execution_count": 26,
   "metadata": {},
   "outputs": [
    {
     "data": {
      "text/html": [
       "<style>#sk-container-id-3 {color: black;}#sk-container-id-3 pre{padding: 0;}#sk-container-id-3 div.sk-toggleable {background-color: white;}#sk-container-id-3 label.sk-toggleable__label {cursor: pointer;display: block;width: 100%;margin-bottom: 0;padding: 0.3em;box-sizing: border-box;text-align: center;}#sk-container-id-3 label.sk-toggleable__label-arrow:before {content: \"▸\";float: left;margin-right: 0.25em;color: #696969;}#sk-container-id-3 label.sk-toggleable__label-arrow:hover:before {color: black;}#sk-container-id-3 div.sk-estimator:hover label.sk-toggleable__label-arrow:before {color: black;}#sk-container-id-3 div.sk-toggleable__content {max-height: 0;max-width: 0;overflow: hidden;text-align: left;background-color: #f0f8ff;}#sk-container-id-3 div.sk-toggleable__content pre {margin: 0.2em;color: black;border-radius: 0.25em;background-color: #f0f8ff;}#sk-container-id-3 input.sk-toggleable__control:checked~div.sk-toggleable__content {max-height: 200px;max-width: 100%;overflow: auto;}#sk-container-id-3 input.sk-toggleable__control:checked~label.sk-toggleable__label-arrow:before {content: \"▾\";}#sk-container-id-3 div.sk-estimator input.sk-toggleable__control:checked~label.sk-toggleable__label {background-color: #d4ebff;}#sk-container-id-3 div.sk-label input.sk-toggleable__control:checked~label.sk-toggleable__label {background-color: #d4ebff;}#sk-container-id-3 input.sk-hidden--visually {border: 0;clip: rect(1px 1px 1px 1px);clip: rect(1px, 1px, 1px, 1px);height: 1px;margin: -1px;overflow: hidden;padding: 0;position: absolute;width: 1px;}#sk-container-id-3 div.sk-estimator {font-family: monospace;background-color: #f0f8ff;border: 1px dotted black;border-radius: 0.25em;box-sizing: border-box;margin-bottom: 0.5em;}#sk-container-id-3 div.sk-estimator:hover {background-color: #d4ebff;}#sk-container-id-3 div.sk-parallel-item::after {content: \"\";width: 100%;border-bottom: 1px solid gray;flex-grow: 1;}#sk-container-id-3 div.sk-label:hover label.sk-toggleable__label {background-color: #d4ebff;}#sk-container-id-3 div.sk-serial::before {content: \"\";position: absolute;border-left: 1px solid gray;box-sizing: border-box;top: 0;bottom: 0;left: 50%;z-index: 0;}#sk-container-id-3 div.sk-serial {display: flex;flex-direction: column;align-items: center;background-color: white;padding-right: 0.2em;padding-left: 0.2em;position: relative;}#sk-container-id-3 div.sk-item {position: relative;z-index: 1;}#sk-container-id-3 div.sk-parallel {display: flex;align-items: stretch;justify-content: center;background-color: white;position: relative;}#sk-container-id-3 div.sk-item::before, #sk-container-id-3 div.sk-parallel-item::before {content: \"\";position: absolute;border-left: 1px solid gray;box-sizing: border-box;top: 0;bottom: 0;left: 50%;z-index: -1;}#sk-container-id-3 div.sk-parallel-item {display: flex;flex-direction: column;z-index: 1;position: relative;background-color: white;}#sk-container-id-3 div.sk-parallel-item:first-child::after {align-self: flex-end;width: 50%;}#sk-container-id-3 div.sk-parallel-item:last-child::after {align-self: flex-start;width: 50%;}#sk-container-id-3 div.sk-parallel-item:only-child::after {width: 0;}#sk-container-id-3 div.sk-dashed-wrapped {border: 1px dashed gray;margin: 0 0.4em 0.5em 0.4em;box-sizing: border-box;padding-bottom: 0.4em;background-color: white;}#sk-container-id-3 div.sk-label label {font-family: monospace;font-weight: bold;display: inline-block;line-height: 1.2em;}#sk-container-id-3 div.sk-label-container {text-align: center;}#sk-container-id-3 div.sk-container {/* jupyter's `normalize.less` sets `[hidden] { display: none; }` but bootstrap.min.css set `[hidden] { display: none !important; }` so we also need the `!important` here to be able to override the default hidden behavior on the sphinx rendered scikit-learn.org. See: https://github.com/scikit-learn/scikit-learn/issues/21755 */display: inline-block !important;position: relative;}#sk-container-id-3 div.sk-text-repr-fallback {display: none;}</style><div id=\"sk-container-id-3\" class=\"sk-top-container\"><div class=\"sk-text-repr-fallback\"><pre>RandomForestClassifier(random_state=42)</pre><b>In a Jupyter environment, please rerun this cell to show the HTML representation or trust the notebook. <br />On GitHub, the HTML representation is unable to render, please try loading this page with nbviewer.org.</b></div><div class=\"sk-container\" hidden><div class=\"sk-item\"><div class=\"sk-estimator sk-toggleable\"><input class=\"sk-toggleable__control sk-hidden--visually\" id=\"sk-estimator-id-3\" type=\"checkbox\" checked><label for=\"sk-estimator-id-3\" class=\"sk-toggleable__label sk-toggleable__label-arrow\">RandomForestClassifier</label><div class=\"sk-toggleable__content\"><pre>RandomForestClassifier(random_state=42)</pre></div></div></div></div></div>"
      ],
      "text/plain": [
       "RandomForestClassifier(random_state=42)"
      ]
     },
     "execution_count": 26,
     "metadata": {},
     "output_type": "execute_result"
    }
   ],
   "source": [
    "model.fit(X_train, y_train)"
   ]
  },
  {
   "cell_type": "code",
   "execution_count": 52,
   "metadata": {},
   "outputs": [],
   "source": [
    "y_pred = model.predict(X_test)"
   ]
  },
  {
   "cell_type": "markdown",
   "metadata": {},
   "source": [
    "оценка производительности/эффективности модели"
   ]
  },
  {
   "cell_type": "code",
   "execution_count": 53,
   "metadata": {},
   "outputs": [
    {
     "data": {
      "text/plain": [
       "-0.3406918857102619"
      ]
     },
     "execution_count": 53,
     "metadata": {},
     "output_type": "execute_result"
    }
   ],
   "source": [
    "# метрика r2\n",
    "r2_score(model.predict(X_test), y_test)"
   ]
  },
  {
   "cell_type": "markdown",
   "metadata": {},
   "source": [
    "выводим точность модели"
   ]
  },
  {
   "cell_type": "code",
   "execution_count": 54,
   "metadata": {},
   "outputs": [
    {
     "name": "stdout",
     "output_type": "stream",
     "text": [
      "Точность модели: 0.44466800804828976\n"
     ]
    }
   ],
   "source": [
    "accuracy = accuracy_score(y_test, y_pred)\n",
    "print(f'Точность модели: {accuracy}')"
   ]
  },
  {
   "cell_type": "markdown",
   "metadata": {},
   "source": [
    "Точность модели: 0.917 \n",
    "это отличный результат\n"
   ]
  },
  {
   "cell_type": "markdown",
   "metadata": {},
   "source": [
    "### SVM"
   ]
  },
  {
   "cell_type": "markdown",
   "metadata": {},
   "source": [
    "присваиваем значение x , y "
   ]
  },
  {
   "cell_type": "code",
   "execution_count": 43,
   "metadata": {},
   "outputs": [],
   "source": [
    "X = data1.drop('Адресат', axis=1)\n",
    "y = data1['Адресат']"
   ]
  },
  {
   "cell_type": "markdown",
   "metadata": {},
   "source": [
    "разделяем данные на обучающую и тестовую выборки\n",
    "\n",
    "test_size=0.2 задает размер тестовой выборки в 20% от исходных данных.\n",
    "\n",
    "random_state=42 задает начальное значение для генератора случайных чисел, чтобы результаты можно было воспроизвести."
   ]
  },
  {
   "cell_type": "code",
   "execution_count": 36,
   "metadata": {},
   "outputs": [],
   "source": [
    "X_train, X_test, y_train, y_test = train_test_split(X, y, test_size=0.2, random_state=42)"
   ]
  },
  {
   "cell_type": "markdown",
   "metadata": {},
   "source": [
    "задаем модель"
   ]
  },
  {
   "cell_type": "code",
   "execution_count": 37,
   "metadata": {},
   "outputs": [],
   "source": [
    "model = make_pipeline(StandardScaler(), SVC())"
   ]
  },
  {
   "cell_type": "markdown",
   "metadata": {},
   "source": [
    "обучаем ее"
   ]
  },
  {
   "cell_type": "code",
   "execution_count": 38,
   "metadata": {},
   "outputs": [
    {
     "data": {
      "text/html": [
       "<style>#sk-container-id-4 {color: black;}#sk-container-id-4 pre{padding: 0;}#sk-container-id-4 div.sk-toggleable {background-color: white;}#sk-container-id-4 label.sk-toggleable__label {cursor: pointer;display: block;width: 100%;margin-bottom: 0;padding: 0.3em;box-sizing: border-box;text-align: center;}#sk-container-id-4 label.sk-toggleable__label-arrow:before {content: \"▸\";float: left;margin-right: 0.25em;color: #696969;}#sk-container-id-4 label.sk-toggleable__label-arrow:hover:before {color: black;}#sk-container-id-4 div.sk-estimator:hover label.sk-toggleable__label-arrow:before {color: black;}#sk-container-id-4 div.sk-toggleable__content {max-height: 0;max-width: 0;overflow: hidden;text-align: left;background-color: #f0f8ff;}#sk-container-id-4 div.sk-toggleable__content pre {margin: 0.2em;color: black;border-radius: 0.25em;background-color: #f0f8ff;}#sk-container-id-4 input.sk-toggleable__control:checked~div.sk-toggleable__content {max-height: 200px;max-width: 100%;overflow: auto;}#sk-container-id-4 input.sk-toggleable__control:checked~label.sk-toggleable__label-arrow:before {content: \"▾\";}#sk-container-id-4 div.sk-estimator input.sk-toggleable__control:checked~label.sk-toggleable__label {background-color: #d4ebff;}#sk-container-id-4 div.sk-label input.sk-toggleable__control:checked~label.sk-toggleable__label {background-color: #d4ebff;}#sk-container-id-4 input.sk-hidden--visually {border: 0;clip: rect(1px 1px 1px 1px);clip: rect(1px, 1px, 1px, 1px);height: 1px;margin: -1px;overflow: hidden;padding: 0;position: absolute;width: 1px;}#sk-container-id-4 div.sk-estimator {font-family: monospace;background-color: #f0f8ff;border: 1px dotted black;border-radius: 0.25em;box-sizing: border-box;margin-bottom: 0.5em;}#sk-container-id-4 div.sk-estimator:hover {background-color: #d4ebff;}#sk-container-id-4 div.sk-parallel-item::after {content: \"\";width: 100%;border-bottom: 1px solid gray;flex-grow: 1;}#sk-container-id-4 div.sk-label:hover label.sk-toggleable__label {background-color: #d4ebff;}#sk-container-id-4 div.sk-serial::before {content: \"\";position: absolute;border-left: 1px solid gray;box-sizing: border-box;top: 0;bottom: 0;left: 50%;z-index: 0;}#sk-container-id-4 div.sk-serial {display: flex;flex-direction: column;align-items: center;background-color: white;padding-right: 0.2em;padding-left: 0.2em;position: relative;}#sk-container-id-4 div.sk-item {position: relative;z-index: 1;}#sk-container-id-4 div.sk-parallel {display: flex;align-items: stretch;justify-content: center;background-color: white;position: relative;}#sk-container-id-4 div.sk-item::before, #sk-container-id-4 div.sk-parallel-item::before {content: \"\";position: absolute;border-left: 1px solid gray;box-sizing: border-box;top: 0;bottom: 0;left: 50%;z-index: -1;}#sk-container-id-4 div.sk-parallel-item {display: flex;flex-direction: column;z-index: 1;position: relative;background-color: white;}#sk-container-id-4 div.sk-parallel-item:first-child::after {align-self: flex-end;width: 50%;}#sk-container-id-4 div.sk-parallel-item:last-child::after {align-self: flex-start;width: 50%;}#sk-container-id-4 div.sk-parallel-item:only-child::after {width: 0;}#sk-container-id-4 div.sk-dashed-wrapped {border: 1px dashed gray;margin: 0 0.4em 0.5em 0.4em;box-sizing: border-box;padding-bottom: 0.4em;background-color: white;}#sk-container-id-4 div.sk-label label {font-family: monospace;font-weight: bold;display: inline-block;line-height: 1.2em;}#sk-container-id-4 div.sk-label-container {text-align: center;}#sk-container-id-4 div.sk-container {/* jupyter's `normalize.less` sets `[hidden] { display: none; }` but bootstrap.min.css set `[hidden] { display: none !important; }` so we also need the `!important` here to be able to override the default hidden behavior on the sphinx rendered scikit-learn.org. See: https://github.com/scikit-learn/scikit-learn/issues/21755 */display: inline-block !important;position: relative;}#sk-container-id-4 div.sk-text-repr-fallback {display: none;}</style><div id=\"sk-container-id-4\" class=\"sk-top-container\"><div class=\"sk-text-repr-fallback\"><pre>Pipeline(steps=[(&#x27;standardscaler&#x27;, StandardScaler()), (&#x27;svc&#x27;, SVC())])</pre><b>In a Jupyter environment, please rerun this cell to show the HTML representation or trust the notebook. <br />On GitHub, the HTML representation is unable to render, please try loading this page with nbviewer.org.</b></div><div class=\"sk-container\" hidden><div class=\"sk-item sk-dashed-wrapped\"><div class=\"sk-label-container\"><div class=\"sk-label sk-toggleable\"><input class=\"sk-toggleable__control sk-hidden--visually\" id=\"sk-estimator-id-4\" type=\"checkbox\" ><label for=\"sk-estimator-id-4\" class=\"sk-toggleable__label sk-toggleable__label-arrow\">Pipeline</label><div class=\"sk-toggleable__content\"><pre>Pipeline(steps=[(&#x27;standardscaler&#x27;, StandardScaler()), (&#x27;svc&#x27;, SVC())])</pre></div></div></div><div class=\"sk-serial\"><div class=\"sk-item\"><div class=\"sk-estimator sk-toggleable\"><input class=\"sk-toggleable__control sk-hidden--visually\" id=\"sk-estimator-id-5\" type=\"checkbox\" ><label for=\"sk-estimator-id-5\" class=\"sk-toggleable__label sk-toggleable__label-arrow\">StandardScaler</label><div class=\"sk-toggleable__content\"><pre>StandardScaler()</pre></div></div></div><div class=\"sk-item\"><div class=\"sk-estimator sk-toggleable\"><input class=\"sk-toggleable__control sk-hidden--visually\" id=\"sk-estimator-id-6\" type=\"checkbox\" ><label for=\"sk-estimator-id-6\" class=\"sk-toggleable__label sk-toggleable__label-arrow\">SVC</label><div class=\"sk-toggleable__content\"><pre>SVC()</pre></div></div></div></div></div></div></div>"
      ],
      "text/plain": [
       "Pipeline(steps=[('standardscaler', StandardScaler()), ('svc', SVC())])"
      ]
     },
     "execution_count": 38,
     "metadata": {},
     "output_type": "execute_result"
    }
   ],
   "source": [
    "model.fit(X_train, y_train)"
   ]
  },
  {
   "cell_type": "markdown",
   "metadata": {},
   "source": [
    "присваиваем y_pred значение model.predict(X_test)"
   ]
  },
  {
   "cell_type": "code",
   "execution_count": 39,
   "metadata": {},
   "outputs": [],
   "source": [
    "y_pred = model.predict(X_test)"
   ]
  },
  {
   "cell_type": "markdown",
   "metadata": {},
   "source": [
    "выводим точность модели"
   ]
  },
  {
   "cell_type": "code",
   "execution_count": 49,
   "metadata": {},
   "outputs": [
    {
     "name": "stdout",
     "output_type": "stream",
     "text": [
      "Точность модели: 0.44466800804828976\n"
     ]
    }
   ],
   "source": [
    "accuracy = accuracy_score(y_test, y_pred)\n",
    "print(f'Точность модели: {accuracy}')"
   ]
  },
  {
   "cell_type": "markdown",
   "metadata": {},
   "source": [
    "Точность модели 0.44 , что хуже предыдущего результата"
   ]
  },
  {
   "cell_type": "markdown",
   "metadata": {},
   "source": [
    "## 2.2 Визуализация зависимостей данных"
   ]
  },
  {
   "cell_type": "code",
   "execution_count": 77,
   "metadata": {},
   "outputs": [
    {
     "data": {
      "image/png": "[encoded data removed]",
      "text/plain": [
       "<Figure size 800x700 with 2 Axes>"
      ]
     },
     "metadata": {},
     "output_type": "display_data"
    }
   ],
   "source": [
    "features_target = data1\n",
    "interval_cols = data1\n",
    "phik_overview = features_target.phik_matrix(interval_cols=interval_cols)\n",
    "\n",
    "plot_correlation_matrix(phik_overview.values,\n",
    "                        x_labels=phik_overview.columns,\n",
    "                        y_labels=phik_overview.index,\n",
    "                        vmin=0, vmax=1, color_map=\"Purples\",\n",
    "                        title=\"Корреляция признаков\",\n",
    "                        fontsize_factor=1.5,\n",
    "                        figsize=(8, 7))\n",
    "plt.tight_layout()\n"
   ]
  },
  {
   "cell_type": "markdown",
   "metadata": {},
   "source": [
    "Наибольшую зависимость с атрибутом 'Адресат' имеет '№документа'."
   ]
  },
  {
   "cell_type": "markdown",
   "metadata": {},
   "source": [
    "## 2.3 Подготовка отчета"
   ]
  },
  {
   "cell_type": "markdown",
   "metadata": {},
   "source": [
    "-Обоснование выбора модели классификации:\n",
    "\n",
    "Я решил использовать две модели random forest и svm \n",
    "\n",
    "\n",
    "  Точность модели random forest: 0.917\n",
    "\n",
    "  \n",
    "  Точность модели svm : 0.44"
   ]
  },
  {
   "cell_type": "markdown",
   "metadata": {},
   "source": [
    "-Выбор способов визуализации: \n",
    "\n",
    "\n",
    "я выбрал матрицу кореляции , так как с помощью нее можно наилучшим способом увидеть зависимость атрибутов\n",
    "    "
   ]
  },
  {
   "cell_type": "markdown",
   "metadata": {},
   "source": [
    "-Результаты визуализации:\n",
    "\n",
    "Используя программные средства, визуализировал зависимости атрибутов в наборе данных.  Визуализация отражает влияние атрибутов на определение класса (адресата). Наибольшую зависимость с атрибутом 'Адресат' имеет '№документа'."
   ]
  },
  {
   "cell_type": "markdown",
   "metadata": {},
   "source": [
    "-Обоснование способа разделения на обучающую и тестирующую выборки:\n",
    "\n",
    "\n",
    "test_size=0.2 задает размер тестовой выборки в 20% от исходных данных.\n",
    "\n",
    "random_state=42 задает начальное значение для генератора случайных чисел, чтобы результаты можно было воспроизвести."
   ]
  },
  {
   "cell_type": "code",
   "execution_count": null,
   "metadata": {},
   "outputs": [],
   "source": [
    "data2.to_csv(\"data2.csv\", index=False)"
   ]
  }
 ],
 "metadata": {
  "kernelspec": {
   "display_name": ".venv",
   "language": "python",
   "name": "python3"
  },
  "language_info": {
   "codemirror_mode": {
    "name": "ipython",
    "version": 3
   },
   "file_extension": ".py",
   "mimetype": "text/x-python",
   "name": "python",
   "nbconvert_exporter": "python",
   "pygments_lexer": "ipython3",
   "version": "3.12.0"
  }
 },
 "nbformat": 4,
 "nbformat_minor": 2
}
